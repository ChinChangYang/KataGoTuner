{
 "cells": [
  {
   "cell_type": "code",
   "execution_count": 12,
   "metadata": {},
   "outputs": [
    {
     "data": {
      "text/plain": [
       "-327.3233531845416"
      ]
     },
     "execution_count": 12,
     "metadata": {},
     "output_type": "execute_result"
    }
   ],
   "source": [
    "\n",
    "\n",
    "import numpy as np\n",
    "\n",
    "\n",
    "b = 1.50676807\n",
    "w1 = -1.90038195\n",
    "w2 = 1.35680768\n",
    "x = 512 # max visits = 512\n",
    "y = 512 # max visits = 512\n",
    "R = 400 * (b + w1 * np.log(x) + w2 * np.log(y)) / np.log(10)\n",
    "R # -327.3233531845416"
   ]
  },
  {
   "cell_type": "markdown",
   "metadata": {},
   "source": [
    "The expected ELO rating is modeled by the logistic regression:\n",
    "$$ R = {400(b+w_1 \\ln(x) + w_2 \\ln(y)) \\over {\\ln(10)}} $$\n",
    "where $b = 1.50676807$, $w_1 = -1.90038195$, and $w_2 = 1.35680768$. The $x$ and $y$ variables are max visits that are set in the KataGo configuration."
   ]
  },
  {
   "cell_type": "code",
   "execution_count": 9,
   "metadata": {},
   "outputs": [
    {
     "name": "stdout",
     "output_type": "stream",
     "text": [
      "[ 42.25319953 111.55536117 294.5244087  777.59263572]\n"
     ]
    }
   ],
   "source": [
    "x = [32, 64, 128, 256]\n",
    "y = np.exp(-(b + w1 * np.log(x)) / w2)\n",
    "print(y)"
   ]
  },
  {
   "cell_type": "markdown",
   "metadata": {},
   "source": [
    "To solve for $y$ when $R = 0$, we start with the equation:\n",
    "\n",
    "$$ R = {400(b+w_1 \\ln(x) + w_2 \\ln(y)) \\over {\\ln(10)}} $$\n",
    "\n",
    "This simplifies to:\n",
    "\n",
    "$$ b + w_1 \\ln(x) + w_2 \\ln(y) = 0 $$\n",
    "\n",
    "The solution for $y$ when $R = 0$ is confirmed to be:\n",
    "\n",
    "$$ y = \\exp\\left(-\\frac{b + w_1 \\ln(x)}{w_2}\\right) $$\n",
    "\n",
    "| x   | y      |\n",
    "|-----|--------|\n",
    "| 32  | 42.25  |\n",
    "| 64  | 111.56 |\n",
    "| 128 | 294.52 |\n",
    "| 256 | 777.59 |"
   ]
  }
 ],
 "metadata": {
  "kernelspec": {
   "display_name": "Python 3",
   "language": "python",
   "name": "python3"
  },
  "language_info": {
   "codemirror_mode": {
    "name": "ipython",
    "version": 3
   },
   "file_extension": ".py",
   "mimetype": "text/x-python",
   "name": "python",
   "nbconvert_exporter": "python",
   "pygments_lexer": "ipython3",
   "version": "3.8.16"
  }
 },
 "nbformat": 4,
 "nbformat_minor": 2
}
